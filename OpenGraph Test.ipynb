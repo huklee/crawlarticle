{
 "cells": [
  {
   "cell_type": "code",
   "execution_count": 1,
   "metadata": {},
   "outputs": [
    {
     "name": "stdout",
     "output_type": "stream",
     "text": [
      "Collecting python-opengraph\n",
      "  Downloading python-opengraph-0.0.2.tar.gz\n",
      "Collecting beautifulsoup4>=4.3 (from python-opengraph)\n",
      "  Downloading beautifulsoup4-4.6.0-py3-none-any.whl (86kB)\n",
      "\u001b[K    100% |████████████████████████████████| 92kB 250kB/s ta 0:00:01\n",
      "\u001b[?25hCollecting requests>=2.7 (from python-opengraph)\n",
      "  Downloading requests-2.18.4-py2.py3-none-any.whl (88kB)\n",
      "\u001b[K    100% |████████████████████████████████| 92kB 1.4MB/s ta 0:00:01\n",
      "\u001b[?25hCollecting chardet<3.1.0,>=3.0.2 (from requests>=2.7->python-opengraph)\n",
      "  Downloading chardet-3.0.4-py2.py3-none-any.whl (133kB)\n",
      "\u001b[K    100% |████████████████████████████████| 143kB 2.3MB/s ta 0:00:01\n",
      "\u001b[?25hCollecting certifi>=2017.4.17 (from requests>=2.7->python-opengraph)\n",
      "  Downloading certifi-2018.1.18-py2.py3-none-any.whl (151kB)\n",
      "\u001b[K    100% |████████████████████████████████| 153kB 757kB/s ta 0:00:01\n",
      "\u001b[?25hCollecting urllib3<1.23,>=1.21.1 (from requests>=2.7->python-opengraph)\n",
      "  Downloading urllib3-1.22-py2.py3-none-any.whl (132kB)\n",
      "\u001b[K    100% |████████████████████████████████| 133kB 2.0MB/s ta 0:00:01\n",
      "\u001b[?25hCollecting idna<2.7,>=2.5 (from requests>=2.7->python-opengraph)\n",
      "  Downloading idna-2.6-py2.py3-none-any.whl (56kB)\n",
      "\u001b[K    100% |████████████████████████████████| 61kB 3.0MB/s ta 0:00:011\n",
      "\u001b[?25hBuilding wheels for collected packages: python-opengraph\n",
      "  Running setup.py bdist_wheel for python-opengraph ... \u001b[?25ldone\n",
      "\u001b[?25h  Stored in directory: /Users/huklee/Library/Caches/pip/wheels/5d/2f/82/bcfa7e44d18ba0a75122ecaf9595c09ea7a2a1a38a810625d1\n",
      "Successfully built python-opengraph\n",
      "Installing collected packages: beautifulsoup4, chardet, certifi, urllib3, idna, requests, python-opengraph\n",
      "Successfully installed beautifulsoup4-4.6.0 certifi-2018.1.18 chardet-3.0.4 idna-2.6 python-opengraph-0.0.2 requests-2.18.4 urllib3-1.22\n"
     ]
    }
   ],
   "source": [
    "!pip install python-opengraph"
   ]
  },
  {
   "cell_type": "code",
   "execution_count": 7,
   "metadata": {},
   "outputs": [],
   "source": [
    "from opengraph import OpenGraph"
   ]
  },
  {
   "cell_type": "code",
   "execution_count": 9,
   "metadata": {},
   "outputs": [
    {
     "name": "stderr",
     "output_type": "stream",
     "text": [
      "/Users/huklee/Work/tensorflow/lib/python3.5/site-packages/bs4/__init__.py:181: UserWarning: No parser was explicitly specified, so I'm using the best available HTML parser for this system (\"html5lib\"). This usually isn't a problem, but if you run this code on another system, or in a different virtual environment, it may use a different parser and behave differently.\n",
      "\n",
      "The code that caused this warning is on line 184 of the file /Library/Frameworks/Python.framework/Versions/3.5/lib/python3.5/runpy.py. To get rid of this warning, change code that looks like this:\n",
      "\n",
      " BeautifulSoup(YOUR_MARKUP})\n",
      "\n",
      "to this:\n",
      "\n",
      " BeautifulSoup(YOUR_MARKUP, \"html5lib\")\n",
      "\n",
      "  markup_type=markup_type))\n"
     ]
    }
   ],
   "source": [
    "og = OpenGraph(url='http://someurl.com')"
   ]
  },
  {
   "cell_type": "code",
   "execution_count": 11,
   "metadata": {},
   "outputs": [
    {
     "data": {
      "text/plain": [
       "'While My Guitar Gently Weeps'"
      ]
     },
     "execution_count": 11,
     "metadata": {},
     "output_type": "execute_result"
    }
   ],
   "source": [
    "og.title"
   ]
  },
  {
   "cell_type": "code",
   "execution_count": 13,
   "metadata": {},
   "outputs": [
    {
     "ename": "AttributeError",
     "evalue": "Open Graph object has no attribute \"items\"",
     "output_type": "error",
     "traceback": [
      "\u001b[0;31m---------------------------------------------------------------------------\u001b[0m",
      "\u001b[0;31mAttributeError\u001b[0m                            Traceback (most recent call last)",
      "\u001b[0;32m<ipython-input-13-e3902c963996>\u001b[0m in \u001b[0;36m<module>\u001b[0;34m()\u001b[0m\n\u001b[0;32m----> 1\u001b[0;31m \u001b[0;32mfor\u001b[0m \u001b[0mx\u001b[0m\u001b[0;34m,\u001b[0m\u001b[0my\u001b[0m \u001b[0;32min\u001b[0m \u001b[0mog\u001b[0m\u001b[0;34m.\u001b[0m\u001b[0mitems\u001b[0m\u001b[0;34m(\u001b[0m\u001b[0;34m)\u001b[0m\u001b[0;34m:\u001b[0m\u001b[0;34m\u001b[0m\u001b[0m\n\u001b[0m\u001b[1;32m      2\u001b[0m     \u001b[0mprint\u001b[0m \u001b[0;34m(\u001b[0m\u001b[0;34m\"%-15s => %s\"\u001b[0m \u001b[0;34m%\u001b[0m \u001b[0;34m(\u001b[0m\u001b[0mx\u001b[0m\u001b[0;34m,\u001b[0m \u001b[0my\u001b[0m\u001b[0;34m)\u001b[0m\u001b[0;34m)\u001b[0m\u001b[0;34m\u001b[0m\u001b[0m\n",
      "\u001b[0;32m~/Work/tensorflow/lib/python3.5/site-packages/opengraph/opengraph.py\u001b[0m in \u001b[0;36m__getattr__\u001b[0;34m(self, name)\u001b[0m\n\u001b[1;32m     25\u001b[0m             \u001b[0;32mreturn\u001b[0m \u001b[0mself\u001b[0m\u001b[0;34m.\u001b[0m\u001b[0m__data__\u001b[0m\u001b[0;34m[\u001b[0m\u001b[0mname\u001b[0m\u001b[0;34m]\u001b[0m\u001b[0;34m\u001b[0m\u001b[0m\n\u001b[1;32m     26\u001b[0m         raise AttributeError(\n\u001b[0;32m---> 27\u001b[0;31m             'Open Graph object has no attribute \"{}\"'.format(name))\n\u001b[0m\u001b[1;32m     28\u001b[0m \u001b[0;34m\u001b[0m\u001b[0m\n\u001b[1;32m     29\u001b[0m     \u001b[0;32mdef\u001b[0m \u001b[0m__repr__\u001b[0m\u001b[0;34m(\u001b[0m\u001b[0mself\u001b[0m\u001b[0;34m)\u001b[0m\u001b[0;34m:\u001b[0m\u001b[0;34m\u001b[0m\u001b[0m\n",
      "\u001b[0;31mAttributeError\u001b[0m: Open Graph object has no attribute \"items\""
     ]
    }
   ],
   "source": [
    "for x,y in og.items():\n",
    "    print (\"%-15s => %s\" % (x, y))"
   ]
  },
  {
   "cell_type": "code",
   "execution_count": 21,
   "metadata": {},
   "outputs": [
    {
     "ename": "TypeError",
     "evalue": "'OpenGraph' object is not iterable",
     "output_type": "error",
     "traceback": [
      "\u001b[0;31m---------------------------------------------------------------------------\u001b[0m",
      "\u001b[0;31mTypeError\u001b[0m                                 Traceback (most recent call last)",
      "\u001b[0;32m<ipython-input-21-cfb1e4e2c2cf>\u001b[0m in \u001b[0;36m<module>\u001b[0;34m()\u001b[0m\n\u001b[0;32m----> 1\u001b[0;31m \u001b[0;32mfor\u001b[0m \u001b[0mi\u001b[0m \u001b[0;32min\u001b[0m \u001b[0mog\u001b[0m\u001b[0;34m:\u001b[0m\u001b[0;34m\u001b[0m\u001b[0m\n\u001b[0m\u001b[1;32m      2\u001b[0m     \u001b[0mprint\u001b[0m\u001b[0;34m(\u001b[0m\u001b[0mi\u001b[0m\u001b[0;34m)\u001b[0m\u001b[0;34m\u001b[0m\u001b[0m\n",
      "\u001b[0;31mTypeError\u001b[0m: 'OpenGraph' object is not iterable"
     ]
    }
   ],
   "source": [
    "for i in og:\n",
    "    print(i)"
   ]
  },
  {
   "cell_type": "code",
   "execution_count": 22,
   "metadata": {},
   "outputs": [
    {
     "data": {
      "text/plain": [
       "{'video:secure_url': 'https://www.youtube.com/v/q3ixBmDzylQ?version=3&autohide=1', 'description': 'Eric Clapton and Paul McCartney perform George Harrison\\'s \"While My Guitar Gently Weeps\" at the Queen Golden Jubilee. 3 june 2002 Phil Collins on the drums R...', 'video:type': 'application/x-shockwave-flash', 'site_name': 'YouTube', 'video:url': 'http://www.youtube.com/v/q3ixBmDzylQ?version=3&autohide=1', 'image': 'https://i.ytimg.com/vi/q3ixBmDzylQ/hqdefault.jpg', 'type': 'video.other', 'video:tag': 'Collins', 'title': 'While My Guitar Gently Weeps', 'url': 'https://www.youtube.com/watch?v=q3ixBmDzylQ', 'video:height': '360', 'video:width': '640'}"
      ]
     },
     "execution_count": 22,
     "metadata": {},
     "output_type": "execute_result"
    }
   ],
   "source": [
    "og"
   ]
  },
  {
   "cell_type": "code",
   "execution_count": 32,
   "metadata": {},
   "outputs": [
    {
     "data": {
      "text/plain": [
       "'https://i.ytimg.com/vi/q3ixBmDzylQ/hqdefault.jpg'"
      ]
     },
     "execution_count": 32,
     "metadata": {},
     "output_type": "execute_result"
    }
   ],
   "source": [
    "og.image"
   ]
  },
  {
   "cell_type": "code",
   "execution_count": 33,
   "metadata": {},
   "outputs": [
    {
     "name": "stderr",
     "output_type": "stream",
     "text": [
      "/Users/huklee/Work/tensorflow/lib/python3.5/site-packages/bs4/__init__.py:181: UserWarning: No parser was explicitly specified, so I'm using the best available HTML parser for this system (\"html5lib\"). This usually isn't a problem, but if you run this code on another system, or in a different virtual environment, it may use a different parser and behave differently.\n",
      "\n",
      "The code that caused this warning is on line 184 of the file /Library/Frameworks/Python.framework/Versions/3.5/lib/python3.5/runpy.py. To get rid of this warning, change code that looks like this:\n",
      "\n",
      " BeautifulSoup(YOUR_MARKUP})\n",
      "\n",
      "to this:\n",
      "\n",
      " BeautifulSoup(YOUR_MARKUP, \"html5lib\")\n",
      "\n",
      "  markup_type=markup_type))\n"
     ]
    }
   ],
   "source": [
    "news = OpenGraph(url=\"http://www.dailypadak.com/articles/5687116654706688\")"
   ]
  },
  {
   "cell_type": "code",
   "execution_count": 36,
   "metadata": {},
   "outputs": [
    {
     "data": {
      "text/plain": [
       "{'video:secure_url': 'https://www.youtube.com/v/q3ixBmDzylQ?version=3&autohide=1', 'description': 'IOC spokesman . \"Those who do not know what Olympism is, It is not worth to answer & very surprised such an Olympic committee in Korea. \"', 'video:type': 'application/x-shockwave-flash', 'site_name': 'YouTube', 'video:url': 'http://www.youtube.com/v/q3ixBmDzylQ?version=3&autohide=1', 'image': 'http://lh3.googleusercontent.com/eyyi0qmpOojpqGXSwtB_HsKeDNOAr_oTQID4jgb0ulsN20_igVmeaMMdPwDYVzTspagvLkeI7yXmlphBFWcz=s550', 'type': 'article', 'video:tag': 'Collins', 'title': 'IOC spokesman Said  \"No need to Answer to Black mail \"', 'url': 'http://www.dailypadak.com/articles/5687116654706688', 'video:height': '360', 'video:width': '640'}"
      ]
     },
     "execution_count": 36,
     "metadata": {},
     "output_type": "execute_result"
    }
   ],
   "source": [
    "news"
   ]
  },
  {
   "cell_type": "code",
   "execution_count": 46,
   "metadata": {},
   "outputs": [
    {
     "data": {
      "text/html": [
       "<img src=\"http://lh3.googleusercontent.com/eyyi0qmpOojpqGXSwtB_HsKeDNOAr_oTQID4jgb0ulsN20_igVmeaMMdPwDYVzTspagvLkeI7yXmlphBFWcz=s550\"/>"
      ],
      "text/plain": [
       "<IPython.core.display.Image object>"
      ]
     },
     "metadata": {},
     "output_type": "display_data"
    },
    {
     "data": {
      "text/plain": [
       "'IOC spokesman Said  \"No need to Answer to Black mail \"'"
      ]
     },
     "metadata": {},
     "output_type": "display_data"
    },
    {
     "data": {
      "text/plain": [
       "'IOC spokesman . \"Those who do not know what Olympism is, It is not worth to answer & very surprised such an Olympic committee in Korea. \"'"
      ]
     },
     "metadata": {},
     "output_type": "display_data"
    }
   ],
   "source": [
    "from IPython.display import Image\n",
    "from IPython.core.display import HTML \n",
    "\n",
    "display(Image(url= news.image))\n",
    "display(news.title)\n",
    "display(news.description)"
   ]
  }
 ],
 "metadata": {
  "kernelspec": {
   "display_name": "Python 3",
   "language": "python",
   "name": "python3"
  },
  "language_info": {
   "codemirror_mode": {
    "name": "ipython",
    "version": 3
   },
   "file_extension": ".py",
   "mimetype": "text/x-python",
   "name": "python",
   "nbconvert_exporter": "python",
   "pygments_lexer": "ipython3",
   "version": "3.5.2"
  }
 },
 "nbformat": 4,
 "nbformat_minor": 2
}
